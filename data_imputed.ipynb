{
 "cells": [
  {
   "cell_type": "code",
   "execution_count": 1,
   "metadata": {},
   "outputs": [
    {
     "name": "stdout",
     "output_type": "stream",
     "text": [
      "<class 'pandas.core.frame.DataFrame'>\n",
      "RangeIndex: 508 entries, 0 to 507\n",
      "Data columns (total 25 columns):\n",
      " #   Column  Non-Null Count  Dtype  \n",
      "---  ------  --------------  -----  \n",
      " 0   group   508 non-null    int64  \n",
      " 1   ID      508 non-null    int64  \n",
      " 2   Gender  508 non-null    int64  \n",
      " 3   Age     508 non-null    int64  \n",
      " 4   KPS     492 non-null    float64\n",
      " 5   RBC     494 non-null    float64\n",
      " 6   HGB     494 non-null    float64\n",
      " 7   WBC     494 non-null    float64\n",
      " 8   Neu     494 non-null    float64\n",
      " 9   Lym     494 non-null    float64\n",
      " 10  Mono    494 non-null    float64\n",
      " 11  Eos     494 non-null    float64\n",
      " 12  PLT     494 non-null    float64\n",
      " 13  RDW     494 non-null    float64\n",
      " 14  PCT     494 non-null    float64\n",
      " 15  MPV     493 non-null    float64\n",
      " 16  ALT     494 non-null    float64\n",
      " 17  AST     494 non-null    float64\n",
      " 18  A       494 non-null    float64\n",
      " 19  G       494 non-null    float64\n",
      " 20  BUN     494 non-null    float64\n",
      " 21  Scr     494 non-null    float64\n",
      " 22  PT      494 non-null    float64\n",
      " 23  APTT    494 non-null    float64\n",
      " 24  INR     494 non-null    float64\n",
      "dtypes: float64(21), int64(4)\n",
      "memory usage: 99.3 KB\n",
      "None\n"
     ]
    }
   ],
   "source": [
    "import pandas as pd\n",
    "\n",
    "data=pd.read_excel('../数据填充/BM_GBM_clinicaldata.xlsx')\n",
    "print(data.info())"
   ]
  },
  {
   "cell_type": "code",
   "execution_count": 2,
   "metadata": {},
   "outputs": [
    {
     "name": "stdout",
     "output_type": "stream",
     "text": [
      "\n",
      "              Class: ImputationKernel\n",
      "           Datasets: 4\n",
      "         Iterations: 2\n",
      "       Data Samples: 508\n",
      "       Data Columns: 25\n",
      "  Imputed Variables: 21\n",
      "save_all_iterations: True\n"
     ]
    }
   ],
   "source": [
    "import miceforest as mf\n",
    "\n",
    "kernel=mf.ImputationKernel(\n",
    "        data,\n",
    "        datasets=4,\n",
    "        save_all_iterations=True,\n",
    "        random_state=1\n",
    ")\n",
    "kernel.mice(2)\n",
    "print(kernel)"
   ]
  },
  {
   "cell_type": "code",
   "execution_count": 3,
   "metadata": {},
   "outputs": [],
   "source": [
    "completed_dataset=kernel.complete_data(dataset=2)\n",
    "completed_dataset.to_excel('completed.xlsx',index=False)"
   ]
  }
 ],
 "metadata": {
  "kernelspec": {
   "display_name": "test",
   "language": "python",
   "name": "python3"
  },
  "language_info": {
   "codemirror_mode": {
    "name": "ipython",
    "version": 3
   },
   "file_extension": ".py",
   "mimetype": "text/x-python",
   "name": "python",
   "nbconvert_exporter": "python",
   "pygments_lexer": "ipython3",
   "version": "3.9.12"
  },
  "orig_nbformat": 4
 },
 "nbformat": 4,
 "nbformat_minor": 2
}
